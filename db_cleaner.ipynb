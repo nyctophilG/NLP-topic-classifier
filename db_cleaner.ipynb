{
 "cells": [
  {
   "cell_type": "code",
   "execution_count": 21,
   "id": "6fd34244",
   "metadata": {},
   "outputs": [],
   "source": [
    "import pandas as pd # lib importing and alas giving \n"
   ]
  },
  {
   "cell_type": "code",
   "execution_count": 22,
   "id": "4009fa8e",
   "metadata": {},
   "outputs": [
    {
     "name": "stdout",
     "output_type": "stream",
     "text": [
      "<class 'pandas.core.frame.DataFrame'>\n",
      "RangeIndex: 136803 entries, 0 to 136802\n",
      "Data columns (total 3 columns):\n",
      " #   Column      Non-Null Count   Dtype \n",
      "---  ------      --------------   ----- \n",
      " 0   Unnamed: 0  136803 non-null  int64 \n",
      " 1   content     136798 non-null  object\n",
      " 2   label       136803 non-null  object\n",
      "dtypes: int64(1), object(2)\n",
      "memory usage: 3.1+ MB\n",
      "None\n"
     ]
    }
   ],
   "source": [
    "df = pd.read_csv(\"topic_classification_data.csv\") # messy db\n",
    "print(df.info())"
   ]
  },
  {
   "cell_type": "code",
   "execution_count": 23,
   "id": "05a4600b",
   "metadata": {},
   "outputs": [
    {
     "name": "stdout",
     "output_type": "stream",
     "text": [
      "<class 'pandas.core.frame.DataFrame'>\n",
      "Index: 136798 entries, 0 to 136802\n",
      "Data columns (total 3 columns):\n",
      " #   Column      Non-Null Count   Dtype \n",
      "---  ------      --------------   ----- \n",
      " 0   Unnamed: 0  136798 non-null  int64 \n",
      " 1   content     136798 non-null  object\n",
      " 2   label       136798 non-null  object\n",
      "dtypes: int64(1), object(2)\n",
      "memory usage: 4.2+ MB\n",
      "None\n"
     ]
    }
   ],
   "source": [
    "df.dropna(inplace = True) # empty cell celaning\n",
    "print(df.info())"
   ]
  },
  {
   "cell_type": "code",
   "execution_count": 24,
   "id": "67934b37",
   "metadata": {},
   "outputs": [
    {
     "name": "stdout",
     "output_type": "stream",
     "text": [
      "Label count: \n",
      "label\n",
      "Politics     37797\n",
      "Health       36947\n",
      "Emotion      28362\n",
      "Financial    22981\n",
      "Sport         6077\n",
      "Science       4634\n",
      "Name: count, dtype: int64\n"
     ]
    }
   ],
   "source": [
    "print(\"Label count: \")\n",
    "print(df[\"label\"].value_counts()) # wrong data checking, its correct"
   ]
  },
  {
   "cell_type": "code",
   "execution_count": 25,
   "id": "e95203ac",
   "metadata": {},
   "outputs": [
    {
     "name": "stdout",
     "output_type": "stream",
     "text": [
      "674\n",
      "(136798, 3)\n",
      "(136124, 3)\n",
      "<class 'pandas.core.frame.DataFrame'>\n",
      "Index: 136124 entries, 0 to 136802\n",
      "Data columns (total 3 columns):\n",
      " #   Column      Non-Null Count   Dtype \n",
      "---  ------      --------------   ----- \n",
      " 0   Unnamed: 0  136124 non-null  int64 \n",
      " 1   content     136124 non-null  object\n",
      " 2   label       136124 non-null  object\n",
      "dtypes: int64(1), object(2)\n",
      "memory usage: 4.2+ MB\n",
      "None\n"
     ]
    }
   ],
   "source": [
    "dup_count = df.duplicated (subset = [\"content\"]).sum() # finding to sum of dups by looking in just 2. column\n",
    "print(dup_count)\n",
    "print(df.shape)\n",
    "df.drop_duplicates(subset = [\"content\"], keep = \"first\" , inplace = True) # droping dups while keeping first encounter still \n",
    "print(df.shape) # before and after shape of db duplicated deleted\n",
    "print(df.info()) # with that integrity part is done "
   ]
  }
 ],
 "metadata": {
  "kernelspec": {
   "display_name": "nlp_project",
   "language": "python",
   "name": "python3"
  },
  "language_info": {
   "codemirror_mode": {
    "name": "ipython",
    "version": 3
   },
   "file_extension": ".py",
   "mimetype": "text/x-python",
   "name": "python",
   "nbconvert_exporter": "python",
   "pygments_lexer": "ipython3",
   "version": "3.10.18"
  }
 },
 "nbformat": 4,
 "nbformat_minor": 5
}
